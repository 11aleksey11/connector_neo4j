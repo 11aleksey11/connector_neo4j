{
  "nbformat": 4,
  "nbformat_minor": 0,
  "metadata": {
    "colab": {
      "provenance": [],
      "authorship_tag": "ABX9TyO88V7qp2E4PfnwD9OOv4L3",
      "include_colab_link": true
    },
    "kernelspec": {
      "name": "python3",
      "display_name": "Python 3"
    },
    "language_info": {
      "name": "python"
    }
  },
  "cells": [
    {
      "cell_type": "markdown",
      "metadata": {
        "id": "view-in-github",
        "colab_type": "text"
      },
      "source": [
        "<a href=\"https://colab.research.google.com/github/11aleksey11/connector_neo4j/blob/main/test_neo4j.ipynb\" target=\"_parent\"><img src=\"https://colab.research.google.com/assets/colab-badge.svg\" alt=\"Open In Colab\"/></a>"
      ]
    },
    {
      "cell_type": "code",
      "source": [
        "!pip install py2neo\n",
        "!pip install neo4j"
      ],
      "metadata": {
        "id": "gWwbPOe0PPwV"
      },
      "execution_count": null,
      "outputs": []
    },
    {
      "cell_type": "markdown",
      "source": [
        "*Получаем url для запроса к файлу *.csv и создаём dataframe*"
      ],
      "metadata": {
        "id": "ZvPuMy7AUanc"
      }
    },
    {
      "cell_type": "code",
      "execution_count": null,
      "metadata": {
        "id": "KdfTBxTmSx-6"
      },
      "outputs": [],
      "source": [
        "import pandas as pd\n",
        "import requests\n",
        "from py2neo import Graph\n",
        "from neo4j import GraphDatabase\n",
        "import logging\n",
        "from neo4j.exceptions import ServiceUnavailable\n",
        " \n",
        "\n",
        "base_url = 'https://drive.google.com/file/d/1Q7r_rwyB91f1eiVDvjPfUsITzhxPV08M/view?usp=sharing'\n",
        "url='https://drive.google.com/uc?id=' + base_url.split('/')[-2]\n",
        "df = pd.read_csv(url)\n",
        "\n",
        "lst_person = []\n",
        "rows = ''\n",
        "for i in df.iteritems():\n",
        "  rows = i[1]\n",
        "for row in rows:\n",
        "  lst_person.append({'parent': row.split(';')[1], 'child': row.split(';')[2], 'relationship': row.split(';')[0]})\n",
        "\n",
        "\n",
        "#создаём подключение к neo4j\n",
        "\n",
        "class App:\n",
        "\n",
        "    def __init__(self, uri, user, password):\n",
        "        self.driver = GraphDatabase.driver(uri, auth=(user, password))\n",
        "\n",
        "    def close(self):\n",
        "        # Don't forget to close the driver connection when you are finished with it\n",
        "        self.driver.close()\n",
        "\n",
        "    def create_friendship(self, lst):\n",
        "        with self.driver.session(database=\"neo4j\") as session:\n",
        "            # Write transactions allow the driver to handle retries and transient errors\n",
        "            result = session.execute_write(\n",
        "                self._create_and_return_friendship, lst)\n",
        "\n",
        "\n",
        "    @staticmethod\n",
        "    def _create_and_return_friendship(tx, lst):\n",
        "        # To learn more about the Cypher syntax, see https://neo4j.com/docs/cypher-manual/current/\n",
        "        # The Reference Card is also a good resource for keywords https://neo4j.com/docs/cypher-refcard/current/\n",
        "        dct_person = {}\n",
        "        counter = 1\n",
        "        query = ''\n",
        "        for dct in lst:\n",
        "          if dct['child'] not in dct_person:\n",
        "            person = 'person' + str(counter)\n",
        "            query = ', '.join([f'({dct[\"child\"].replace(\" \", \"_\")}:Person {{ name: \"{dct[\"child\"]}\"}})',  query])        \n",
        "            dct_person[dct['child']] = person\n",
        "            counter += 1\n",
        "          if dct['parent'] not in dct_person.keys():\n",
        "            person = 'person' + str(counter)\n",
        "            query = ', '.join([f'({dct[\"parent\"].replace(\" \", \"_\")}:Person {{ name: \"{dct[\"parent\"]}\"}})',  query])    \n",
        "            dct_person[dct[\"parent\"]] = person\n",
        "            counter += 1\n",
        "          #query =', '.join([query, f'({dct_person[dct[\"parent\"]]})-[:id_event_{dct[\"relationship\"]}]->({dct_person[dct[\"child\"]]})'])\n",
        "          query =', '.join([query, f'({dct[\"parent\"].replace(\" \", \"_\")})-[:EVENT {{name: \"{dct[\"relationship\"]}\"}}]->({dct[\"child\"].replace(\" \", \"_\")})'])\n",
        "        result = tx.run('create ' + query.replace(', ,', ', '))\n",
        "        return [result]\n",
        "\n",
        "\n",
        "if __name__ == \"__main__\":\n",
        "    # Aura queries use an encrypted connection using the \"neo4j+s\" URI scheme\n",
        "    uri = \"neo4j+s://e2300488.databases.neo4j.io\"\n",
        "    user = \"neo4j\"\n",
        "    password = \"X-3JMVu5spbZqt-J_Ov88ceI8vbrdFVDLK9i4MrovB0\"\n",
        "    app = App(uri, user, password)\n",
        "    app.create_friendship(lst_person)     \n",
        "    app.close()"
      ]
    }
  ]
}