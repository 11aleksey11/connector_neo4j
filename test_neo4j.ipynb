{
  "nbformat": 4,
  "nbformat_minor": 0,
  "metadata": {
    "colab": {
      "provenance": [],
      "authorship_tag": "ABX9TyOIgode4jYO7lZ8nWsuUQ9P",
      "include_colab_link": true
    },
    "kernelspec": {
      "name": "python3",
      "display_name": "Python 3"
    },
    "language_info": {
      "name": "python"
    }
  },
  "cells": [
    {
      "cell_type": "markdown",
      "metadata": {
        "id": "view-in-github",
        "colab_type": "text"
      },
      "source": [
        "<a href=\"https://colab.research.google.com/github/11aleksey11/connector_neo4j/blob/main/test_neo4j.ipynb\" target=\"_parent\"><img src=\"https://colab.research.google.com/assets/colab-badge.svg\" alt=\"Open In Colab\"/></a>"
      ]
    },
    {
      "cell_type": "code",
      "source": [
        "!pip install py2neo\n",
        "!pip install neo4j"
      ],
      "metadata": {
        "id": "gWwbPOe0PPwV"
      },
      "execution_count": null,
      "outputs": []
    },
    {
      "cell_type": "markdown",
      "source": [
        "*Получаем url для запроса к файлу *.csv"
      ],
      "metadata": {
        "id": "ZvPuMy7AUanc"
      }
    },
    {
      "cell_type": "code",
      "execution_count": 15,
      "metadata": {
        "id": "KdfTBxTmSx-6"
      },
      "outputs": [],
      "source": [
        "import pandas as pd\n",
        "import requests\n",
        "from py2neo import Graph\n",
        "from neo4j import GraphDatabase\n",
        "import logging\n",
        "from neo4j.exceptions import ServiceUnavailable\n",
        " \n",
        "\n",
        "base_url = 'https://drive.google.com/file/d/1Q7r_rwyB91f1eiVDvjPfUsITzhxPV08M/view?usp=sharing'\n",
        "url='https://drive.google.com/uc?id=' + base_url.split('/')[-2]\n",
        "df = pd.read_csv(url)\n",
        "\n",
        "lst_person = []\n",
        "rows = ''\n",
        "for i in df.iteritems():\n",
        "  rows = i[1]\n",
        "for row in rows:\n",
        "  lst_person.append({'pers1': row.split(';')[1], 'pers2': row.split(';')[2], 'Event': row.split(';')[0]})\n",
        "\n",
        "\n",
        "#создаём подключение к neo4j\n",
        "\n",
        "class App:\n",
        "\n",
        "    def __init__(self, uri, user, password):\n",
        "        self.driver = GraphDatabase.driver(uri, auth=(user, password))\n",
        "\n",
        "    def close(self):\n",
        "        # Don't forget to close the driver connection when you are finished with it\n",
        "        self.driver.close()\n",
        "\n",
        "    def create_friendship(self, lst):\n",
        "        with self.driver.session(database=\"neo4j\") as session:\n",
        "            # Write transactions allow the driver to handle retries and transient errors\n",
        "            result = session.execute_write(\n",
        "                self._create_and_return_friendship, lst)\n",
        "\n",
        "\n",
        "    @staticmethod\n",
        "    def _create_and_return_friendship(tx, lst):\n",
        "        # To learn more about the Cypher syntax, see https://neo4j.com/docs/cypher-manual/current/\n",
        "        # The Reference Card is also a good resource for keywords https://neo4j.com/docs/cypher-refcard/current/\n",
        "        set_person = set()\n",
        "        query = ''\n",
        "        for dct in lst:\n",
        "          if dct['pers2'] not in set_person:\n",
        "            query = ', '.join([f'({dct[\"pers2\"].replace(\" \", \"_\")}:Person {{ name: \"{dct[\"pers2\"]}\"}})',  query])        \n",
        "            set_person.add(dct['pers2'])\n",
        "          if dct['pers1'] not in set_person:\n",
        "            query = ', '.join([f'({dct[\"pers1\"].replace(\" \", \"_\")}:Person {{ name: \"{dct[\"pers1\"]}\"}})',  query])    \n",
        "            set_person.add(dct['pers1'])\n",
        "          if dct['Event'] not in set_person:\n",
        "            query = ', '.join([f'(Event_{str(dct[\"Event\"])}:Event {{ name: \"{dct[\"Event\"]}\"}})',  query])\n",
        "            set_person.add(dct['Event'])\n",
        "          make_relation1 = f'({dct[\"pers1\"].replace(\" \", \"_\")})-[:EVENT]->(Event_{str(dct[\"Event\"])})'\n",
        "          make_relation2 = f'({dct[\"pers2\"].replace(\" \", \"_\")})-[:EVENT]->(Event_{str(dct[\"Event\"])})'\n",
        "          query =', '.join([query, make_relation1, make_relation2])\n",
        "\n",
        "        result = tx.run('create ' + query.replace(', ,', ', '))\n",
        "        return [result]\n",
        "\n",
        "\n",
        "if __name__ == \"__main__\":\n",
        "    # Aura queries use an encrypted connection using the \"neo4j+s\" URI scheme\n",
        "    uri = \"neo4j+s://e2300488.databases.neo4j.io\"\n",
        "    user = \"neo4j\"\n",
        "    password = \"X-3JMVu5spbZqt-J_Ov88ceI8vbrdFVDLK9i4MrovB0\"\n",
        "    app = App(uri, user, password)\n",
        "    app.create_friendship(lst_person)     \n",
        "    app.close()"
      ]
    }
  ]
}