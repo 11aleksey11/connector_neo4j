{
  "cells": [
    {
      "cell_type": "markdown",
      "metadata": {
        "id": "view-in-github",
        "colab_type": "text"
      },
      "source": [
        "<a href=\"https://colab.research.google.com/github/11aleksey11/connector_neo4j/blob/main/test_neo4j.ipynb\" target=\"_parent\"><img src=\"https://colab.research.google.com/assets/colab-badge.svg\" alt=\"Open In Colab\"/></a>"
      ]
    },
    {
      "cell_type": "code",
      "execution_count": null,
      "metadata": {
        "id": "gWwbPOe0PPwV"
      },
      "outputs": [],
      "source": [
        "!pip install neo4j\n",
        "import json\n",
        "import pandas as pd\n",
        "from neo4j import GraphDatabase\n",
        "from fastapi import FastAPI\n"
      ]
    },
    {
      "cell_type": "markdown",
      "metadata": {
        "id": "ZvPuMy7AUanc"
      },
      "source": [
        "*Получаем url для запроса к файлу *.csv и создаём dataframe*"
      ]
    },
    {
      "cell_type": "code",
      "execution_count": null,
      "metadata": {
        "id": "KdfTBxTmSx-6"
      },
      "outputs": [],
      "source": [
        "base_url = 'https://drive.google.com/file/d/1Q7r_rwyB91f1eiVDvjPfUsITzhxPV08M/view?usp=sharing'\n",
        "url = 'https://drive.google.com/uc?id=' + base_url.split('/')[-2]\n",
        "df = pd.read_csv(url)\n",
        "\n",
        "lst_person = []\n",
        "rows = ''\n",
        "for i in df.iteritems():\n",
        "    rows = i[1]\n",
        "for row in rows:\n",
        "    lst_person.append({'pers1': row.split(';')[1], 'pers2': row.split(';')[2], 'Event': row.split(';')[0]})\n",
        "\n",
        "\n",
        "# создаём подключение к neo4j\n",
        "\n",
        "class App:\n",
        "\n",
        "    def __init__(self, uri, user, password):\n",
        "        self.driver = GraphDatabase.driver(uri, auth=(user, password))\n",
        "\n",
        "    def close(self):\n",
        "        self.driver.close()\n",
        "\n",
        "    def create_request(self, lst):\n",
        "        with self.driver.session(database=\"neo4j\") as session:\n",
        "            result = session.execute_write(\n",
        "                self._create_and_return_friendship, lst)\n",
        "\n",
        "    @staticmethod\n",
        "    def _create_and_return_friendship(tx, lst):\n",
        "        set_person = set()\n",
        "        query = ''\n",
        "        count = 0\n",
        "        for dct in lst:\n",
        "            if dct['pers2'] not in set_person:\n",
        "                query = ', '.join([f'({dct[\"pers2\"].replace(\" \", \"_\")}:Person {{ name: \"{dct[\"pers2\"]}\"}})', query])\n",
        "                set_person.add(dct['pers2'])\n",
        "            if dct['pers1'] not in set_person:\n",
        "                query = ', '.join([f'({dct[\"pers1\"].replace(\" \", \"_\")}:Person {{ name: \"{dct[\"pers1\"]}\"}})', query])\n",
        "                set_person.add(dct['pers1'])\n",
        "            if dct['Event'] not in set_person:\n",
        "                query = ', '.join([f'(Event_{str(dct[\"Event\"])}:Event {{ name: \"{dct[\"Event\"]}\"}})', query])\n",
        "                set_person.add(dct['Event'])\n",
        "            make_relation1 = f'({dct[\"pers1\"].replace(\" \", \"_\")})-[:EVENT]->(Event_{str(dct[\"Event\"])})'\n",
        "            make_relation2 = f'({dct[\"pers2\"].replace(\" \", \"_\")})-[:EVENT]->(Event_{str(dct[\"Event\"])})'\n",
        "            query = ', '.join([query, make_relation1, make_relation2])\n",
        "        result = tx.run('create ' + query.replace(', ,', ', '))\n",
        "        return [result]\n",
        "\n",
        "    def get_request(self, lst):\n",
        "        with self.driver.session(database=\"neo4j\") as session:\n",
        "            result = session.execute_read(\n",
        "                self._create_and_return_get_request, lst)\n",
        "\n",
        "    app = FastAPI()\n",
        "\n",
        "    @app.post(\"/match\")\n",
        "    def return_name_json(self, name='Галчевская Карина Владимировна'):\n",
        "        session = self.driver.session()\n",
        "        query = f'match (n:Person {{name:\"{name}\"}})-[a:EVENT]-(s:Event) return n, a, s'\n",
        "        result = json.dumps(session.run(query).data())\n",
        "        decoding_result = json.loads(result)\n",
        "        return decoding_result\n",
        "\n",
        "\n",
        "if __name__ == \"__main__\":\n",
        "    uri = \"neo4j+s://e2300488.databases.neo4j.io\"\n",
        "    user = \"neo4j\"\n",
        "    password = \"X-3JMVu5spbZqt-J_Ov88ceI8vbrdFVDLK9i4MrovB0\"\n",
        "    app = App(uri, user, password)\n",
        "    #app.create_request(lst_person)\n",
        "    js_result = app.return_name_json()\n",
        "    app.close()"
      ]
    }
  ],
  "metadata": {
    "colab": {
      "provenance": [],
      "authorship_tag": "ABX9TyN20fMbhFyHGJe9ZX7SA6q6",
      "include_colab_link": true
    },
    "kernelspec": {
      "display_name": "Python 3",
      "name": "python3"
    },
    "language_info": {
      "name": "python"
    }
  },
  "nbformat": 4,
  "nbformat_minor": 0
}